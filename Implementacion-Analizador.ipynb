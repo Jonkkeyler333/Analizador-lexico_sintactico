{
 "cells": [
  {
   "cell_type": "markdown",
   "metadata": {},
   "source": [
    "# **Analizador léxico-sintáctico**"
   ]
  },
  {
   "cell_type": "markdown",
   "metadata": {},
   "source": [
    "## **1.Analizador léxico**"
   ]
  },
  {
   "cell_type": "markdown",
   "metadata": {},
   "source": [
    "*import importante*"
   ]
  },
  {
   "cell_type": "code",
   "execution_count": 2,
   "metadata": {},
   "outputs": [],
   "source": [
    "import re"
   ]
  },
  {
   "cell_type": "code",
   "execution_count": 3,
   "metadata": {},
   "outputs": [
    {
     "name": "stdout",
     "output_type": "stream",
     "text": [
      "['if data[1]>data[2] then', 'if data[1]<data[2] then']\n"
     ]
    }
   ],
   "source": [
    "def lexer3(input_str:str)->list:\n",
    "    patron=re.compile(r'if.*?then')\n",
    "    return patron.findall(input_str)\n",
    "\n",
    "if __name__ == '__main__':\n",
    "    print(lexer3(\"if data[1]>data[2] then write(data[1]) end if data[1]<data[2] then write(data[2]) end\"))"
   ]
  }
 ],
 "metadata": {
  "kernelspec": {
   "display_name": "Python 3",
   "language": "python",
   "name": "python3"
  },
  "language_info": {
   "codemirror_mode": {
    "name": "ipython",
    "version": 3
   },
   "file_extension": ".py",
   "mimetype": "text/x-python",
   "name": "python",
   "nbconvert_exporter": "python",
   "pygments_lexer": "ipython3",
   "version": "3.11.4"
  }
 },
 "nbformat": 4,
 "nbformat_minor": 2
}
