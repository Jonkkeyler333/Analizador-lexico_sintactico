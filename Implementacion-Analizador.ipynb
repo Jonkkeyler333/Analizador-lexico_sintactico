{
 "cells": [
  {
   "cell_type": "markdown",
   "metadata": {},
   "source": [
    "# **Analizador léxico-sintáctico**"
   ]
  },
  {
   "cell_type": "markdown",
   "metadata": {},
   "source": [
    "## **1.Analizador léxico**"
   ]
  },
  {
   "cell_type": "markdown",
   "metadata": {},
   "source": [
    "*import importante*"
   ]
  },
  {
   "cell_type": "code",
   "execution_count": null,
   "metadata": {},
   "outputs": [],
   "source": [
    "import re"
   ]
  },
  {
   "cell_type": "code",
   "execution_count": null,
   "metadata": {},
   "outputs": [],
   "source": [
    "def lexer3(input_str:str)->list:\n",
    "    patron=re.compile(r'if.*?then')\n",
    "    return patron.findall(input_str)\n",
    "\n",
    "if __name__ == '__main__':\n",
    "    print(lexer3(\"if data[1]>data[2] then write(data[1]) end if data[1]<data[2] then write(data[2]) end\"))"
   ]
  },
  {
   "cell_type": "markdown",
   "metadata": {},
   "source": [
    "## **2.Analizador Sinctactico**"
   ]
  },
  {
   "cell_type": "code",
   "execution_count": null,
   "metadata": {},
   "outputs": [],
   "source": [
    "class AnalizadorSintactico:\n",
    "    def __init__(self,pseudocodigo:str):\n",
    "        self.pseudocodigo = pseudocodigo\n",
    "        self.indice_actual = 0\n",
    "        self.indice=0\n",
    "\n",
    "    def obtener_siguiente_estructura(self):\n",
    "        if self.indice_actual < len(self.pseudocodigo):\n",
    "            estructura_actual = self.pseudocodigo[self.indice_actual]\n",
    "            self.indice_actual += 1\n",
    "            return estructura_actual\n",
    "        else:\n",
    "            return None\n",
    "        \n",
    "    def obtener_siguiente_cadena(self,estructura:str):\n",
    "        cadenas=estructura.split(\" \")\n",
    "        if cadenas and self.indice < len(cadenas):\n",
    "            estructura_actual = cadenas[self.indice]\n",
    "            self.indice += 1\n",
    "            return estructura_actual\n",
    "        else:\n",
    "            self.indice = 0\n",
    "            return None\n",
    "    \n",
    "\n",
    "    def si(self):\n",
    "        estructura_actual = self.obtener_siguiente_estructura()\n",
    "        cadena_actual = self.obtener_siguiente_cadena(estructura_actual)\n",
    "        if cadena_actual and cadena_actual == \"Si\":\n",
    "            cadena_actual=self.obtener_siguiente_cadena(estructura_actual)\n",
    "            print(cadena_actual)\n",
    "            if cadena_actual and cadena_actual == \"condicion\":\n",
    "                if cadena_actual and cadena_actual == \"entonces\":\n",
    "                    cadena_actual=self.obtener_siguiente_cadena(estructura_actual)\n",
    "                else:\n",
    "                    print(\"Error , se esperaba obtener la palabra 'entonces'\")\n",
    "            else:\n",
    "                pass\n",
    "                \n",
    "        else:\n",
    "            pass\n",
    "\n",
    "an1=AnalizadorSintactico(['Si condicion jaajaj','hola'])\n",
    "an1.si()\n"
   ]
  },
  {
   "cell_type": "code",
   "execution_count": null,
   "metadata": {},
   "outputs": [],
   "source": [
    "\n",
    "\"Si condcion entonces\".split(\" \")"
   ]
  }
 ],
 "metadata": {
  "kernelspec": {
   "display_name": "Python 3",
   "language": "python",
   "name": "python3"
  },
  "language_info": {
   "codemirror_mode": {
    "name": "ipython",
    "version": 3
   },
   "file_extension": ".py",
   "mimetype": "text/x-python",
   "name": "python",
   "nbconvert_exporter": "python",
   "pygments_lexer": "ipython3",
   "version": "3.11.4"
  }
 },
 "nbformat": 4,
 "nbformat_minor": 2
}
