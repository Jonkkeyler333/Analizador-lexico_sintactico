{
 "cells": [
  {
   "cell_type": "markdown",
   "metadata": {},
   "source": [
    "# **Analizador léxico-sintáctico**"
   ]
  },
  {
   "cell_type": "markdown",
   "metadata": {},
   "source": [
    "### some advices "
   ]
  },
  {
   "cell_type": "markdown",
   "metadata": {},
   "source": [
    "## **1.Analizador léxico**"
   ]
  },
  {
   "cell_type": "code",
   "execution_count": null,
   "metadata": {},
   "outputs": [],
   "source": []
  },
  {
   "cell_type": "markdown",
   "metadata": {},
   "source": [
    "## **2.Analizador Sinctactico**"
   ]
  },
  {
   "cell_type": "code",
   "execution_count": 34,
   "metadata": {},
   "outputs": [
    {
     "name": "stdout",
     "output_type": "stream",
     "text": [
      "A=1\n",
      "Error , se esperaba obtener la palabra 'Entonces'\n"
     ]
    }
   ],
   "source": [
    "import re\n",
    "\n",
    "class error(Exception):\n",
    "    def __init__(self,mensaje:str):\n",
    "        super().__init__(mensaje)\n",
    "        \n",
    "\n",
    "class AnalizadorSintactico:\n",
    "    def __init__(self,pseudocodigo:str):\n",
    "        self.error_actual='empty'\n",
    "        self.error=error(self.error_actual)\n",
    "        self.pseudocodigo = pseudocodigo\n",
    "        self.indice_actual = 0\n",
    "        self.indice=0\n",
    "\n",
    "    def obtener_siguiente_estructura(self):\n",
    "        if self.indice_actual < len(self.pseudocodigo):\n",
    "            estructura_actual = self.pseudocodigo[self.indice_actual]\n",
    "            self.indice_actual += 1\n",
    "            return estructura_actual\n",
    "        else:\n",
    "            return None\n",
    "        \n",
    "    def obtener_siguiente_cadena(self,estructura:str):\n",
    "        cadenas=estructura.split(\" \")\n",
    "        if cadenas and self.indice < len(cadenas):\n",
    "            estructura_actual = cadenas[self.indice]\n",
    "            self.indice += 1\n",
    "            return estructura_actual\n",
    "        else:\n",
    "            self.indice = 0\n",
    "            return None\n",
    "        \n",
    "    def condicion(self,cadena:str):\n",
    "        regex=re.compile('[a-zA-Z0-9_]+=([a-zA-Z0-9_]+)')\n",
    "        if re.fullmatch(regex,cadena):\n",
    "            return True\n",
    "        else:\n",
    "            return False\n",
    "    \n",
    "    def instrucciones(self,cadena:str):\n",
    "        regex=re.compile('[a-zA-Z0-9_]+=([a-zA-Z0-9_]+)')\n",
    "    \n",
    "\n",
    "    def si(self):\n",
    "        estructura_actual = self.obtener_siguiente_estructura()\n",
    "        cadena_actual = self.obtener_siguiente_cadena(estructura_actual)\n",
    "        if cadena_actual and cadena_actual == \"Si\":\n",
    "            cadena_actual=self.obtener_siguiente_cadena(estructura_actual)\n",
    "            print(cadena_actual)\n",
    "            if cadena_actual and self.condicion(cadena_actual):\n",
    "                cadena_actual=self.obtener_siguiente_cadena(estructura_actual)\n",
    "                if cadena_actual and cadena_actual == \"Entonces\":\n",
    "                    pass\n",
    "                else:\n",
    "                    print(\"Error , se esperaba obtener la palabra 'Entonces'\")\n",
    "                    self.lanzar_excepcion(\"Error , se esperaba obtener la palabra 'Entonces'\")\n",
    "            else:\n",
    "                print('Error, se esperaba una condicion valida')\n",
    "                self.lanzar_excepcion(\"Error , se esperaba obtener la palabra 'Entonces'\")\n",
    "        else:\n",
    "            pass\n",
    "        \n",
    "    def lanzar_excepcion(self,mensaje:str):\n",
    "        \"\"\"Esta función lanza una excepción al encontrar un error en la cadena de entrada\n",
    "\n",
    "        :param mensaje: El mensaje que quiere ser mostrado al usuario\n",
    "        :type mensaje: str\n",
    "        :raises self.error: Esta excepción es lanzada para indicar que se encontró un error\n",
    "        \"\"\"\n",
    "        self.error_actual=mensaje\n",
    "        raise self.error\n",
    "\n",
    "if __name__ == '__main__':\n",
    "    # regex=re.compile('[a-zA-Z0-9_]+=([a-zA-Z0-9_]+)')\n",
    "    # print(re.fullmatch(regex,'hola=1'))\n",
    "    an1=AnalizadorSintactico(['Si A=1 Gei'])\n",
    "    an1.si()\n",
    "    # an1.xd()\n"
   ]
  },
  {
   "cell_type": "code",
   "execution_count": 46,
   "metadata": {},
   "outputs": [],
   "source": [
    "regex=re.compile('[a-zA-Z0-9_]+=([a-zA-Z0-9_]+)')\n",
    "re.fullmatch(regex,'')"
   ]
  }
 ],
 "metadata": {
  "kernelspec": {
   "display_name": "Python 3",
   "language": "python",
   "name": "python3"
  },
  "language_info": {
   "codemirror_mode": {
    "name": "ipython",
    "version": 3
   },
   "file_extension": ".py",
   "mimetype": "text/x-python",
   "name": "python",
   "nbconvert_exporter": "python",
   "pygments_lexer": "ipython3",
   "version": "3.11.4"
  }
 },
 "nbformat": 4,
 "nbformat_minor": 2
}
