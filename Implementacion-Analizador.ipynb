{
 "cells": [
  {
   "cell_type": "markdown",
   "metadata": {},
   "source": [
    "# **Analizador léxico-sintáctico**"
   ]
  },
  {
   "cell_type": "markdown",
   "metadata": {},
   "source": [
    "### some advices "
   ]
  },
  {
   "cell_type": "markdown",
   "metadata": {},
   "source": [
    "## **1.Analizador léxico**"
   ]
  },
  {
   "cell_type": "code",
   "execution_count": null,
   "metadata": {},
   "outputs": [],
   "source": []
  },
  {
   "cell_type": "markdown",
   "metadata": {},
   "source": [
    "## **2.Analizador Sinctactico**"
   ]
  },
  {
   "cell_type": "code",
   "execution_count": 40,
   "metadata": {},
   "outputs": [
    {
     "name": "stdout",
     "output_type": "stream",
     "text": [
      "a>b\n",
      "a>b\n",
      "Error, se esperaba una condicion valida\n"
     ]
    },
    {
     "ename": "error",
     "evalue": "Error , se esperaba obtener una condicion valida",
     "output_type": "error",
     "traceback": [
      "\u001b[1;31m---------------------------------------------------------------------------\u001b[0m",
      "\u001b[1;31merror\u001b[0m                                     Traceback (most recent call last)",
      "\u001b[1;32mc:\\Users\\keyle\\OneDrive\\Documentos\\GitHub\\Analizador-lexico_sintactico\\Implementacion-Analizador.ipynb Cell 6\u001b[0m line \u001b[0;36m1\n\u001b[0;32m    <a href='vscode-notebook-cell:/c%3A/Users/keyle/OneDrive/Documentos/GitHub/Analizador-lexico_sintactico/Implementacion-Analizador.ipynb#W5sZmlsZQ%3D%3D?line=116'>117</a>\u001b[0m \u001b[39mif\u001b[39;00m \u001b[39m__name__\u001b[39m \u001b[39m==\u001b[39m \u001b[39m'\u001b[39m\u001b[39m__main__\u001b[39m\u001b[39m'\u001b[39m:\n\u001b[0;32m    <a href='vscode-notebook-cell:/c%3A/Users/keyle/OneDrive/Documentos/GitHub/Analizador-lexico_sintactico/Implementacion-Analizador.ipynb#W5sZmlsZQ%3D%3D?line=117'>118</a>\u001b[0m     \u001b[39m# regex=re.compile('[a-zA-Z0-9_]+=([a-zA-Z0-9_]+)')\u001b[39;00m\n\u001b[0;32m    <a href='vscode-notebook-cell:/c%3A/Users/keyle/OneDrive/Documentos/GitHub/Analizador-lexico_sintactico/Implementacion-Analizador.ipynb#W5sZmlsZQ%3D%3D?line=118'>119</a>\u001b[0m     \u001b[39m# print(re.fullmatch(regex,'hola=1'))\u001b[39;00m\n\u001b[0;32m    <a href='vscode-notebook-cell:/c%3A/Users/keyle/OneDrive/Documentos/GitHub/Analizador-lexico_sintactico/Implementacion-Analizador.ipynb#W5sZmlsZQ%3D%3D?line=119'>120</a>\u001b[0m     an1\u001b[39m=\u001b[39mAnalizadorSintactico([[\u001b[39m'\u001b[39m\u001b[39mSi A=1 Entonces a>b FinSi\u001b[39m\u001b[39m'\u001b[39m],[\u001b[39m'\u001b[39m\u001b[39mSi xd \u001b[39m\u001b[39m'\u001b[39m]])\n\u001b[1;32m--> <a href='vscode-notebook-cell:/c%3A/Users/keyle/OneDrive/Documentos/GitHub/Analizador-lexico_sintactico/Implementacion-Analizador.ipynb#W5sZmlsZQ%3D%3D?line=120'>121</a>\u001b[0m     an1\u001b[39m.\u001b[39;49msi()\n",
      "\u001b[1;32mc:\\Users\\keyle\\OneDrive\\Documentos\\GitHub\\Analizador-lexico_sintactico\\Implementacion-Analizador.ipynb Cell 6\u001b[0m line \u001b[0;36m9\n\u001b[0;32m     <a href='vscode-notebook-cell:/c%3A/Users/keyle/OneDrive/Documentos/GitHub/Analizador-lexico_sintactico/Implementacion-Analizador.ipynb#W5sZmlsZQ%3D%3D?line=94'>95</a>\u001b[0m         \u001b[39mself\u001b[39m\u001b[39m.\u001b[39mlanzar_excepcion(\u001b[39m\"\u001b[39m\u001b[39mError , se esperaba la palabra \u001b[39m\u001b[39m'\u001b[39m\u001b[39mFinSi\u001b[39m\u001b[39m'\u001b[39m\u001b[39m\"\u001b[39m)\n\u001b[0;32m     <a href='vscode-notebook-cell:/c%3A/Users/keyle/OneDrive/Documentos/GitHub/Analizador-lexico_sintactico/Implementacion-Analizador.ipynb#W5sZmlsZQ%3D%3D?line=95'>96</a>\u001b[0m     \u001b[39melse\u001b[39;00m:\n\u001b[1;32m---> <a href='vscode-notebook-cell:/c%3A/Users/keyle/OneDrive/Documentos/GitHub/Analizador-lexico_sintactico/Implementacion-Analizador.ipynb#W5sZmlsZQ%3D%3D?line=96'>97</a>\u001b[0m         \u001b[39mself\u001b[39;49m\u001b[39m.\u001b[39;49mreiniciar()\n\u001b[0;32m     <a href='vscode-notebook-cell:/c%3A/Users/keyle/OneDrive/Documentos/GitHub/Analizador-lexico_sintactico/Implementacion-Analizador.ipynb#W5sZmlsZQ%3D%3D?line=97'>98</a>\u001b[0m \u001b[39melse\u001b[39;00m:\n\u001b[0;32m     <a href='vscode-notebook-cell:/c%3A/Users/keyle/OneDrive/Documentos/GitHub/Analizador-lexico_sintactico/Implementacion-Analizador.ipynb#W5sZmlsZQ%3D%3D?line=98'>99</a>\u001b[0m     \u001b[39mprint\u001b[39m(\u001b[39m\"\u001b[39m\u001b[39mError , se esperaba obtener la palabra \u001b[39m\u001b[39m'\u001b[39m\u001b[39mEntonces\u001b[39m\u001b[39m'\u001b[39m\u001b[39m\"\u001b[39m)\n",
      "\u001b[1;32mc:\\Users\\keyle\\OneDrive\\Documentos\\GitHub\\Analizador-lexico_sintactico\\Implementacion-Analizador.ipynb Cell 6\u001b[0m line \u001b[0;36m2\n\u001b[0;32m     <a href='vscode-notebook-cell:/c%3A/Users/keyle/OneDrive/Documentos/GitHub/Analizador-lexico_sintactico/Implementacion-Analizador.ipynb#W5sZmlsZQ%3D%3D?line=26'>27</a>\u001b[0m \u001b[39mself\u001b[39m\u001b[39m.\u001b[39mindice\u001b[39m=\u001b[39m\u001b[39m0\u001b[39m\n\u001b[0;32m     <a href='vscode-notebook-cell:/c%3A/Users/keyle/OneDrive/Documentos/GitHub/Analizador-lexico_sintactico/Implementacion-Analizador.ipynb#W5sZmlsZQ%3D%3D?line=27'>28</a>\u001b[0m \u001b[39mself\u001b[39m\u001b[39m.\u001b[39mobtener_pseudocode()\n\u001b[1;32m---> <a href='vscode-notebook-cell:/c%3A/Users/keyle/OneDrive/Documentos/GitHub/Analizador-lexico_sintactico/Implementacion-Analizador.ipynb#W5sZmlsZQ%3D%3D?line=28'>29</a>\u001b[0m \u001b[39mself\u001b[39;49m\u001b[39m.\u001b[39;49msi()\n",
      "\u001b[1;32mc:\\Users\\keyle\\OneDrive\\Documentos\\GitHub\\Analizador-lexico_sintactico\\Implementacion-Analizador.ipynb Cell 6\u001b[0m line \u001b[0;36m1\n\u001b[0;32m    <a href='vscode-notebook-cell:/c%3A/Users/keyle/OneDrive/Documentos/GitHub/Analizador-lexico_sintactico/Implementacion-Analizador.ipynb#W5sZmlsZQ%3D%3D?line=100'>101</a>\u001b[0m     \u001b[39melse\u001b[39;00m:\n\u001b[0;32m    <a href='vscode-notebook-cell:/c%3A/Users/keyle/OneDrive/Documentos/GitHub/Analizador-lexico_sintactico/Implementacion-Analizador.ipynb#W5sZmlsZQ%3D%3D?line=101'>102</a>\u001b[0m         \u001b[39mprint\u001b[39m(\u001b[39m'\u001b[39m\u001b[39mError, se esperaba una condicion valida\u001b[39m\u001b[39m'\u001b[39m)\n\u001b[1;32m--> <a href='vscode-notebook-cell:/c%3A/Users/keyle/OneDrive/Documentos/GitHub/Analizador-lexico_sintactico/Implementacion-Analizador.ipynb#W5sZmlsZQ%3D%3D?line=102'>103</a>\u001b[0m         \u001b[39mself\u001b[39;49m\u001b[39m.\u001b[39;49mlanzar_excepcion(\u001b[39m\"\u001b[39;49m\u001b[39mError , se esperaba obtener una condicion valida\u001b[39;49m\u001b[39m\"\u001b[39;49m)\n\u001b[0;32m    <a href='vscode-notebook-cell:/c%3A/Users/keyle/OneDrive/Documentos/GitHub/Analizador-lexico_sintactico/Implementacion-Analizador.ipynb#W5sZmlsZQ%3D%3D?line=103'>104</a>\u001b[0m \u001b[39melse\u001b[39;00m:\n\u001b[0;32m    <a href='vscode-notebook-cell:/c%3A/Users/keyle/OneDrive/Documentos/GitHub/Analizador-lexico_sintactico/Implementacion-Analizador.ipynb#W5sZmlsZQ%3D%3D?line=104'>105</a>\u001b[0m     \u001b[39mself\u001b[39m\u001b[39m.\u001b[39mreiniciar()\n",
      "\u001b[1;32mc:\\Users\\keyle\\OneDrive\\Documentos\\GitHub\\Analizador-lexico_sintactico\\Implementacion-Analizador.ipynb Cell 6\u001b[0m line \u001b[0;36m1\n\u001b[0;32m    <a href='vscode-notebook-cell:/c%3A/Users/keyle/OneDrive/Documentos/GitHub/Analizador-lexico_sintactico/Implementacion-Analizador.ipynb#W5sZmlsZQ%3D%3D?line=107'>108</a>\u001b[0m \u001b[39m\u001b[39m\u001b[39m\"\"\"Esta función lanza una excepción al encontrar un error en la cadena de entrada\u001b[39;00m\n\u001b[0;32m    <a href='vscode-notebook-cell:/c%3A/Users/keyle/OneDrive/Documentos/GitHub/Analizador-lexico_sintactico/Implementacion-Analizador.ipynb#W5sZmlsZQ%3D%3D?line=108'>109</a>\u001b[0m \n\u001b[0;32m    <a href='vscode-notebook-cell:/c%3A/Users/keyle/OneDrive/Documentos/GitHub/Analizador-lexico_sintactico/Implementacion-Analizador.ipynb#W5sZmlsZQ%3D%3D?line=109'>110</a>\u001b[0m \u001b[39m:param mensaje: El mensaje que quiere ser mostrado al usuario\u001b[39;00m\n\u001b[0;32m    <a href='vscode-notebook-cell:/c%3A/Users/keyle/OneDrive/Documentos/GitHub/Analizador-lexico_sintactico/Implementacion-Analizador.ipynb#W5sZmlsZQ%3D%3D?line=110'>111</a>\u001b[0m \u001b[39m:type mensaje: str\u001b[39;00m\n\u001b[0;32m    <a href='vscode-notebook-cell:/c%3A/Users/keyle/OneDrive/Documentos/GitHub/Analizador-lexico_sintactico/Implementacion-Analizador.ipynb#W5sZmlsZQ%3D%3D?line=111'>112</a>\u001b[0m \u001b[39m:raises self.error: Esta excepción es lanzada para indicar que se encontró un error\u001b[39;00m\n\u001b[0;32m    <a href='vscode-notebook-cell:/c%3A/Users/keyle/OneDrive/Documentos/GitHub/Analizador-lexico_sintactico/Implementacion-Analizador.ipynb#W5sZmlsZQ%3D%3D?line=112'>113</a>\u001b[0m \u001b[39m\"\"\"\u001b[39;00m\n\u001b[0;32m    <a href='vscode-notebook-cell:/c%3A/Users/keyle/OneDrive/Documentos/GitHub/Analizador-lexico_sintactico/Implementacion-Analizador.ipynb#W5sZmlsZQ%3D%3D?line=113'>114</a>\u001b[0m \u001b[39mself\u001b[39m\u001b[39m.\u001b[39merror_actual\u001b[39m=\u001b[39mmensaje\n\u001b[1;32m--> <a href='vscode-notebook-cell:/c%3A/Users/keyle/OneDrive/Documentos/GitHub/Analizador-lexico_sintactico/Implementacion-Analizador.ipynb#W5sZmlsZQ%3D%3D?line=114'>115</a>\u001b[0m \u001b[39mraise\u001b[39;00m error(\u001b[39mself\u001b[39m\u001b[39m.\u001b[39merror_actual)\n",
      "\u001b[1;31merror\u001b[0m: Error , se esperaba obtener una condicion valida"
     ]
    }
   ],
   "source": [
    "import re\n",
    "\n",
    "class error(Exception):\n",
    "    def __init__(self,mensaje:str):\n",
    "        super().__init__(mensaje)\n",
    "        \n",
    "\n",
    "class AnalizadorSintactico:\n",
    "    def __init__(self,codigo:list):\n",
    "        self.error_actual='empty'\n",
    "        self.indice_actual = 0\n",
    "        self.codigo=codigo #lista con todas las cadenas del codigo a analizar\n",
    "        self.indice=0\n",
    "        self.indice_global=0 #lleva el control de la lista con todos los codigos\n",
    "        self.pseudocodigo=codigo[0] #cadena con el codigo a analizar\n",
    "        \n",
    "    def obtener_pseudocode(self):\n",
    "        self.indice_global+=1\n",
    "        if self.indice_global > len(self.codigo)-1:\n",
    "            return 'xd'\n",
    "        else:\n",
    "            self.pseudocodigo = self.codigo[self.indice_global]\n",
    "        \n",
    "    def reiniciar(self):\n",
    "        self.error_actual='empty'\n",
    "        self.indice_actual = 0\n",
    "        self.indice=0\n",
    "        self.obtener_pseudocode()\n",
    "        self.si()\n",
    "      \n",
    "    def obtener_siguiente_estructura(self):\n",
    "        if self.indice_actual < len(self.pseudocodigo):\n",
    "            estructura_actual = self.pseudocodigo[self.indice_actual]\n",
    "            self.indice_actual += 1\n",
    "            return estructura_actual\n",
    "        else:\n",
    "            return None\n",
    "        \n",
    "    def obtener_siguiente_cadena(self,estructura:str):\n",
    "        cadenas=estructura.split(\" \")\n",
    "        if cadenas and self.indice < len(cadenas):\n",
    "            estructura_actual = cadenas[self.indice]\n",
    "            self.indice += 1\n",
    "            return estructura_actual\n",
    "        else:\n",
    "            self.indice = 0\n",
    "            return None\n",
    "        \n",
    "    def condicion(self,cadena:str):\n",
    "        regex=re.compile('[a-zA-Z0-9_]+=([a-zA-Z0-9_]+)')\n",
    "        if re.fullmatch(regex,cadena):\n",
    "            return True\n",
    "        else:\n",
    "            return False\n",
    "    \n",
    "    def instrucciones(self,cadena:str):\n",
    "        regex=re.compile('(([a-zA-Z0-9_(\\s)+]+)(=|<|>|<=|>=)([a-zA-Z0-9_(\\s+)]+))*')\n",
    "        if re.fullmatch(regex,cadena):\n",
    "            return True\n",
    "        else:\n",
    "            return False\n",
    "    \n",
    "    def escritura(self,cadena:str):\n",
    "        regex = re.compile('Escribir\\s+([a-zA-Z0-9_]+,)*[a-zA-Z0-9_]+;')\n",
    "        if re.fullmatch(regex,cadena):\n",
    "            return True\n",
    "        else:   \n",
    "            return False\n",
    "    \n",
    "    def si(self):\n",
    "        instruc=''\n",
    "        estructura_actual = self.obtener_siguiente_estructura()\n",
    "        cadena_actual = self.obtener_siguiente_cadena(estructura_actual)\n",
    "        if cadena_actual and cadena_actual == \"Si\":\n",
    "            cadena_actual=self.obtener_siguiente_cadena(estructura_actual)\n",
    "            if cadena_actual and self.instrucciones(cadena_actual):\n",
    "                cadena_actual=self.obtener_siguiente_cadena(estructura_actual)\n",
    "                if cadena_actual and cadena_actual == \"Entonces\":\n",
    "                    cadena_actual=self.obtener_siguiente_cadena(estructura_actual)\n",
    "                    while cadena_actual:\n",
    "                        print(cadena_actual) \n",
    "                        instruc=instruc+cadena_actual      \n",
    "                        if cadena_actual and (self.escritura(cadena_actual) or self.instrucciones(cadena_actual)):\n",
    "                            cadena_actual=self.obtener_siguiente_cadena(estructura_actual)\n",
    "                        else:\n",
    "                            print('Error, se esperaba una instrucción valida')\n",
    "                            self.lanzar_excepcion(\"Error , se esperaba una instrucción valida\")\n",
    "                        if cadena_actual=='FinSi':\n",
    "                            break           \n",
    "                    print(instruc)\n",
    "                    if cadena_actual !='FinSi':\n",
    "                        print('Error, se esperaba la palabra \"FinSi\"')\n",
    "                        self.lanzar_excepcion(\"Error , se esperaba la palabra 'FinSi'\")\n",
    "                    else:\n",
    "                        self.reiniciar()\n",
    "                else:\n",
    "                    print(\"Error , se esperaba obtener la palabra 'Entonces'\")\n",
    "                    self.lanzar_excepcion(\"Error , se esperaba obtener la palabra 'Entonces'\")\n",
    "            else:\n",
    "                print('Error, se esperaba una condicion valida')\n",
    "                self.lanzar_excepcion(\"Error , se esperaba obtener una condicion valida\")\n",
    "        else:\n",
    "            self.reiniciar()\n",
    "        \n",
    "    def lanzar_excepcion(self,mensaje:str):\n",
    "        \"\"\"Esta función lanza una excepción al encontrar un error en la cadena de entrada\n",
    "\n",
    "        :param mensaje: El mensaje que quiere ser mostrado al usuario\n",
    "        :type mensaje: str\n",
    "        :raises self.error: Esta excepción es lanzada para indicar que se encontró un error\n",
    "        \"\"\"\n",
    "        self.error_actual=mensaje\n",
    "        raise error(self.error_actual)\n",
    "\n",
    "if __name__ == '__main__':\n",
    "    # regex=re.compile('[a-zA-Z0-9_]+=([a-zA-Z0-9_]+)')\n",
    "    # print(re.fullmatch(regex,'hola=1'))\n",
    "    an1=AnalizadorSintactico([['Si A=1 Entonces a>b FinSi'],['Si xd ']])\n",
    "    an1.si()\n"
   ]
  },
  {
   "cell_type": "code",
   "execution_count": 12,
   "metadata": {},
   "outputs": [
    {
     "name": "stdout",
     "output_type": "stream",
     "text": [
      "<re.Match object; span=(0, 3), match='a<b'>\n"
     ]
    }
   ],
   "source": [
    "# regex=re.compile('(([a-zA-Z0-9_]+)(=|<|>|<=|>=)([a-zA-Z0-9_]+)\\s+)+{1,}')\n",
    "# regex=re.compile('(([a-zA-Z0-9_(\\s)+]+)(=|<|>|<=|>=)([a-zA-Z0-9_(\\s+)]+))+')\n",
    "# re.fullmatch(regex,'a>3 a>2 a=3')\n",
    "\n",
    "# regex=re.compile('((\\s*)Escribir) ( ((\\s[a-zA-Z0-9_]+);) |  ((\\s[a-zA-Z0-9_]+);)+ )')\n",
    "# re.fullmatch(regex,'Escribir a;')\n",
    "\n",
    "# regex=re.compile('((\\s*)Escribir)(\\s[a-zA-Z0-9_]+);')\n",
    "# re.fullmatch(regex,'Escribir ae;')\n",
    "\n",
    "import re\n",
    "\n",
    "regex = re.compile('(([a-zA-Z0-9_(\\s)+]+)(=|<|>|<=|>=)([a-zA-Z0-9_(\\s+)]+))*')\n",
    "print(re.fullmatch(regex,'a<b'))"
   ]
  },
  {
   "cell_type": "markdown",
   "metadata": {},
   "source": [
    "## GUI"
   ]
  },
  {
   "cell_type": "code",
   "execution_count": 24,
   "metadata": {},
   "outputs": [],
   "source": [
    "import tkinter as tk\n",
    "from tkinter import messagebox\n",
    "from ttkbootstrap import Style\n",
    "import ttkbootstrap as tb\n",
    "\n",
    "class GUIApp(tk.Tk):\n",
    "    def __init__(self):\n",
    "        super().__init__()\n",
    "        self.title(\"Analizador léxico-sintáctico\")\n",
    "        self.geometry(\"700x500\")\n",
    "\n",
    "        self.style = Style(theme='vapor')\n",
    "        \n",
    "        self.titulo=tb.Label(text='Analizador léxico-sintáctico',font=('Verdana',18),bootstyle='light')\n",
    "        self.titulo.pack(side=tb.TOP,pady=15)\n",
    "        \n",
    "        self.contenedor = tb.Labelframe(text='Pseudocódigo', padding=35)\n",
    "        self.contenedor.pack(side=tb.TOP,padx=(20,20),pady=(0,20)) \n",
    "\n",
    "        self.text_input = tb.Text(master=self.contenedor, width=70,height=10)\n",
    "        self.text_input.pack(pady=10)\n",
    "        \n",
    "            \n",
    "        self.buttonbar = tb.Frame()\n",
    "        self.buttonbar.pack()\n",
    "        \n",
    "        self.b1 = tb.Button(master=self.buttonbar,width=20, text='Revisar', bootstyle='light',command=self.revisar)\n",
    "        self.b1.pack(side=tb.LEFT,padx=10)\n",
    "        \n",
    "        self.b2=tb.Button(master=self.buttonbar,width=20,text='Borrar',bootstyle='light',command=self.borrar)\n",
    "        self.b2.pack(side=tb.LEFT,padx=10)\n",
    "\n",
    "        self.barra=tb.Progressbar(bootstyle=\"success-striped\",maximum=101,value=0)\n",
    "        self.barra.pack(pady=10)\n",
    "        \n",
    "        self.status_label=tb.Label(text='Status : ',font=('Verdana',18),bootstyle='light')\n",
    "        self.status_label.pack(pady=10)\n",
    "        \n",
    "\n",
    "    def revisar(self):\n",
    "        self.barra.step(100)  # Set the step value to the maximum value (100)\n",
    "        self.status_label.config(text=\"Status: Revisar button clicked\")\n",
    "        messagebox.showinfo(message='Se ha revisado su pseudocódigo¡¡', title=\"Completado\")\n",
    "\n",
    "    def borrar(self):\n",
    "        self.status_label.config(text=\"Status: Borrar button clicked\")\n",
    "\n",
    "    def run(self):\n",
    "        self.mainloop()\n",
    "\n",
    "if __name__ == '__main__':\n",
    "    app = GUIApp()\n",
    "    app.run()"
   ]
  }
 ],
 "metadata": {
  "kernelspec": {
   "display_name": "Python 3",
   "language": "python",
   "name": "python3"
  },
  "language_info": {
   "codemirror_mode": {
    "name": "ipython",
    "version": 3
   },
   "file_extension": ".py",
   "mimetype": "text/x-python",
   "name": "python",
   "nbconvert_exporter": "python",
   "pygments_lexer": "ipython3",
   "version": "3.11.4"
  }
 },
 "nbformat": 4,
 "nbformat_minor": 2
}
